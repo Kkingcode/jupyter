{
 "cells": [
  {
   "cell_type": "code",
   "execution_count": 1,
   "id": "5a0f09da",
   "metadata": {},
   "outputs": [],
   "source": [
    "import sqlite3\n",
    "from tkinter import *"
   ]
  },
  {
   "cell_type": "code",
   "execution_count": 2,
   "id": "6c3f9612",
   "metadata": {},
   "outputs": [],
   "source": [
    "# Establish a connection to the database\n",
    "conn = sqlite3.connect(\"bookstore.db\")\n",
    "cursor = conn.cursor()\n",
    "\n",
    "# Create the books table if it doesn't exist\n",
    "cursor.execute(\"\"\"\n",
    "    CREATE TABLE IF NOT EXISTS books (\n",
    "        id INTEGER PRIMARY KEY AUTOINCREMENT,\n",
    "        title TEXT,\n",
    "        author TEXT,\n",
    "        genre TEXT,\n",
    "        isbn TEXT,\n",
    "        quantity INTEGER\n",
    "    )\n",
    "\"\"\")\n",
    "conn.commit()\n"
   ]
  },
  {
   "cell_type": "code",
   "execution_count": 3,
   "id": "de88f9a8",
   "metadata": {},
   "outputs": [],
   "source": [
    "def add_book():\n",
    "    title = title_entry.get()\n",
    "    author = author_entry.get()\n",
    "    genre = genre_entry.get()\n",
    "    isbn = isbn_entry.get()\n",
    "    quantity = quantity_entry.get()\n",
    "\n",
    "    if not quantity.isdigit():\n",
    "        print(\"Invalid quantity value. Please enter a valid integer.\")\n",
    "        return\n",
    "\n",
    "    quantity = int(quantity)\n",
    "\n",
    "    # Insert the book into the database\n",
    "    cursor.execute(\"\"\"\n",
    "        INSERT INTO books (title, author, genre, isbn, quantity)\n",
    "        VALUES (?, ?, ?, ?, ?)\n",
    "    \"\"\", (title, author, genre, isbn, quantity))\n",
    "    conn.commit()\n",
    "\n",
    "    clear_entries()\n",
    "    print(\"Book added successfully!\")\n",
    "\n",
    "\n",
    "def search_books():\n",
    "    search_term = search_entry.get()\n",
    "    search_type = search_type_var.get()\n",
    "\n",
    "    # Search for books based on the search criteria\n",
    "    cursor.execute(f\"\"\"\n",
    "        SELECT * FROM books WHERE {search_type} LIKE ?\n",
    "    \"\"\", (f\"%{search_term}%\",))\n",
    "\n",
    "    results = cursor.fetchall()\n",
    "\n",
    "    # Display the search results\n",
    "    display_results(results)\n",
    "    \n",
    "    \n",
    "def display_results(results):\n",
    "    results_text.delete(\"1.0\", END)\n",
    "    if not results:\n",
    "        results_text.insert(END, \"No results found.\")\n",
    "    else:\n",
    "        for result in results:\n",
    "            book_info = f\"Title: {result[1]}\\nAuthor: {result[2]}\\nGenre: {result[3]}\\nISBN: {result[4]}\\nQuantity: {result[5]}\\n\\n\"\n",
    "            results_text.insert(END, book_info)\n",
    "\n",
    "def delete_book():\n",
    "    book_id = delete_entry.get()\n",
    "\n",
    "    # Delete the book from the database based on the book ID\n",
    "    cursor.execute(\"\"\"\n",
    "        DELETE FROM books WHERE id=?\n",
    "    \"\"\", (book_id,))\n",
    "    conn.commit()\n",
    "\n",
    "    delete_entry.delete(0, END)\n",
    "    print(\"Book deleted successfully!\")\n",
    "    \n",
    "def clear_entries():\n",
    "    title_entry.delete(0, END)\n",
    "    author_entry.delete(0, END)\n",
    "    genre_entry.delete(0, END)\n",
    "    isbn_entry.delete(0, END)\n",
    "    quantity_entry.delete(0, END)"
   ]
  },
  {
   "cell_type": "code",
   "execution_count": 4,
   "id": "5cd0480f",
   "metadata": {},
   "outputs": [
    {
     "data": {
      "text/plain": [
       "''"
      ]
     },
     "execution_count": 4,
     "metadata": {},
     "output_type": "execute_result"
    }
   ],
   "source": [
    "# Create the main GUI window\n",
    "window = Tk()\n",
    "window.title(\"Bookstore Inventory Management System\")"
   ]
  },
  {
   "cell_type": "code",
   "execution_count": 5,
   "id": "938bf21c",
   "metadata": {},
   "outputs": [],
   "source": [
    "\n",
    "# Create and position labels and entry fields\n",
    "title_label = Label(window, text=\"Title:\")\n",
    "title_label.grid(row=0, column=0, padx=10, pady=10)\n",
    "title_entry = Entry(window)\n",
    "title_entry.grid(row=0, column=1, padx=10, pady=10)\n",
    "\n",
    "author_label = Label(window, text=\"Author:\")\n",
    "author_label.grid(row=1, column=0, padx=10, pady=10)\n",
    "author_entry = Entry(window)\n",
    "author_entry.grid(row=1, column=1, padx=10, pady=10)\n",
    "\n",
    "genre_label = Label(window, text=\"Genre:\")\n",
    "genre_label.grid(row=2, column=0, padx=10, pady=10)\n",
    "genre_entry = Entry(window)\n",
    "genre_entry.grid(row=2, column=1, padx=10, pady=10)\n",
    "\n",
    "isbn_label = Label(window, text=\"ISBN:\")\n",
    "isbn_label.grid(row=3, column=0, padx=10, pady=10)\n",
    "isbn_entry = Entry(window)\n",
    "isbn_entry.grid(row=3, column=1, padx=10, pady=10)\n",
    "\n",
    "quantity_label = Label(window, text=\"Quantity:\")\n",
    "quantity_label.grid(row=4, column=0, padx=10, pady=10)\n",
    "quantity_entry = Entry(window)\n",
    "quantity_entry.grid(row=4, column=1, padx=10, pady=10)\n",
    "\n",
    "delete_label = Label(window, text=\"Delete Book (ID):\")\n",
    "delete_label.grid(row=6, column=0, padx=10, pady=10)\n",
    "delete_entry = Entry(window)\n",
    "delete_entry.grid(row=6, column=1, padx=10, pady=10)\n",
    "\n",
    "search_label = Label(window, text=\"Search:\")\n",
    "search_label.grid(row=7, column=0, padx=10, pady=10)\n",
    "search_entry = Entry(window)\n",
    "search_entry.grid(row=7, column=1, padx=10, pady=10)\n",
    "\n",
    "# Create a variable for the search type\n",
    "search_type_var = StringVar()\n",
    "search_type_var.set(\"title\")\n",
    "\n",
    "# Create and position the search type radio buttons\n",
    "search_type_label = Label(window, text=\"Search by:\")\n",
    "search_type_label.grid(row=8, column=0, padx=10, pady=10)\n",
    "title_radio = Radiobutton(window, text=\"Title\", variable=search_type_var, value=\"title\")\n",
    "title_radio.grid(row=8, column=1, padx=10, pady=5, sticky=W)\n",
    "author_radio = Radiobutton(window, text=\"Author\", variable=search_type_var, value=\"author\")\n",
    "author_radio.grid(row=9, column=1, padx=10, pady=5, sticky=W)\n",
    "genre_radio = Radiobutton(window, text=\"Genre\", variable=search_type_var, value=\"genre\")\n",
    "genre_radio.grid(row=10, column=1, padx=10, pady=5, sticky=W)\n",
    "\n",
    "# Create buttons for adding, deleting, and searching books\n",
    "add_button = Button(window, text=\"Add Book\", command=add_book)\n",
    "add_button.grid(row=0, column=2, padx=10, pady=10)\n",
    "\n",
    "delete_button = Button(window, text=\"Delete Book\", command=delete_book)\n",
    "delete_button.grid(row=6, column=2, padx=10, pady=10)\n",
    "\n",
    "search_button = Button(window, text=\"Search Books\", command=search_books)\n",
    "search_button.grid(row=7, column=2, padx=10, pady=10)"
   ]
  },
  {
   "cell_type": "code",
   "execution_count": null,
   "id": "596c74bf",
   "metadata": {},
   "outputs": [
    {
     "name": "stderr",
     "output_type": "stream",
     "text": [
      "Exception in Tkinter callback\n",
      "Traceback (most recent call last):\n",
      "  File \"C:\\Users\\Admin\\anaconda3\\lib\\tkinter\\__init__.py\", line 1892, in __call__\n",
      "    return self.func(*args)\n",
      "  File \"C:\\Users\\Admin\\AppData\\Local\\Temp\\ipykernel_2308\\1224243740.py\", line 37, in search_books\n",
      "    display_results(results)\n",
      "  File \"C:\\Users\\Admin\\AppData\\Local\\Temp\\ipykernel_2308\\1224243740.py\", line 41, in display_results\n",
      "    results_text.delete(\"1.0\", END)\n",
      "NameError: name 'results_text' is not defined\n"
     ]
    },
    {
     "name": "stdout",
     "output_type": "stream",
     "text": [
      "Book added successfully!\n"
     ]
    },
    {
     "name": "stderr",
     "output_type": "stream",
     "text": [
      "Exception in Tkinter callback\n",
      "Traceback (most recent call last):\n",
      "  File \"C:\\Users\\Admin\\anaconda3\\lib\\tkinter\\__init__.py\", line 1892, in __call__\n",
      "    return self.func(*args)\n",
      "  File \"C:\\Users\\Admin\\AppData\\Local\\Temp\\ipykernel_2308\\1224243740.py\", line 37, in search_books\n",
      "    display_results(results)\n",
      "  File \"C:\\Users\\Admin\\AppData\\Local\\Temp\\ipykernel_2308\\1224243740.py\", line 41, in display_results\n",
      "    results_text.delete(\"1.0\", END)\n",
      "NameError: name 'results_text' is not defined\n"
     ]
    },
    {
     "name": "stdout",
     "output_type": "stream",
     "text": [
      "Book deleted successfully!\n"
     ]
    }
   ],
   "source": [
    "# Start the main GUI loop\n",
    "window.mainloop()\n",
    "\n",
    "# Close the database connection when the application is closed\n",
    "conn.close()"
   ]
  },
  {
   "cell_type": "code",
   "execution_count": null,
   "id": "2c8900e5",
   "metadata": {},
   "outputs": [],
   "source": []
  },
  {
   "cell_type": "code",
   "execution_count": null,
   "id": "dc4a1953",
   "metadata": {},
   "outputs": [],
   "source": []
  }
 ],
 "metadata": {
  "kernelspec": {
   "display_name": "Python 3 (ipykernel)",
   "language": "python",
   "name": "python3"
  },
  "language_info": {
   "codemirror_mode": {
    "name": "ipython",
    "version": 3
   },
   "file_extension": ".py",
   "mimetype": "text/x-python",
   "name": "python",
   "nbconvert_exporter": "python",
   "pygments_lexer": "ipython3",
   "version": "3.9.12"
  }
 },
 "nbformat": 4,
 "nbformat_minor": 5
}
